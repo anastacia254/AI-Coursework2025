{
  "nbformat": 4,
  "nbformat_minor": 0,
  "metadata": {
    "colab": {
      "provenance": [],
      "include_colab_link": true
    },
    "kernelspec": {
      "name": "python3",
      "display_name": "Python 3"
    },
    "language_info": {
      "name": "python"
    }
  },
  "cells": [
    {
      "cell_type": "markdown",
      "metadata": {
        "id": "view-in-github",
        "colab_type": "text"
      },
      "source": [
        "<a href=\"https://colab.research.google.com/github/bernardDesmond23/NetflixTitles-DataCleaning/blob/main/Netflix_Titles_Data_Cleaning.ipynb\" target=\"_parent\"><img src=\"https://colab.research.google.com/assets/colab-badge.svg\" alt=\"Open In Colab\"/></a>"
      ]
    },
    {
      "cell_type": "code",
      "execution_count": null,
      "metadata": {
        "id": "o5-7S1cOd0eu"
      },
      "outputs": [],
      "source": [
        "import numpy as np\n",
        "import pandas as pd\n",
        "from google.colab import files\n",
        "uploaded = files.upload()\n",
        "df =pd.read_csv('netflix_titles.csv')"
      ]
    },
    {
      "cell_type": "markdown",
      "source": [
        "Data indexing question 1\n",
        "Number of all Movies originating from South Africa"
      ],
      "metadata": {
        "id": "XSFoUs5KXyM0"
      }
    },
    {
      "cell_type": "code",
      "source": [
        "sa_movies_count = df[(df['type'] == 'Movie') & (df['country'] == 'South Africa')]\n",
        "print(\" Number of Movies from South Afica;\",len(sa_movies_count))"
      ],
      "metadata": {
        "id": "lY2jy_zsRBEF"
      },
      "execution_count": null,
      "outputs": []
    },
    {
      "cell_type": "markdown",
      "source": [
        "Data indexing question 2\n",
        "What is the description of the movie in the 12th row?"
      ],
      "metadata": {
        "id": "QGuRjJQJYd7V"
      }
    },
    {
      "cell_type": "code",
      "source": [
        "description_12 = df.iloc[11]['description']\n",
        "print(\"Description of the movie in 12th row:\\n\", description_12)"
      ],
      "metadata": {
        "id": "OaaZpGZdYGiq"
      },
      "execution_count": null,
      "outputs": []
    },
    {
      "cell_type": "markdown",
      "source": [
        "List the number of Movies and TV Shows among the last 20 rows\n",
        "of the dataset"
      ],
      "metadata": {
        "id": "PdRrWvHM7QPF"
      }
    },
    {
      "cell_type": "code",
      "source": [
        "last_20 = df.tail(20)\n",
        "movie_count = (last_20['type'] == 'Movie').sum()\n",
        "tv_count = (last_20['type'] == 'TV Show').sum()\n",
        "\n",
        "print(\"\\nAmong the last 20 rows:\")\n",
        "print(\"Movies:\", movie_count)\n",
        "print(\"TV Shows:\", tv_count)"
      ],
      "metadata": {
        "id": "nu3AheFBZIPj"
      },
      "execution_count": null,
      "outputs": []
    },
    {
      "cell_type": "markdown",
      "source": [
        "List the entire cast of all movies released in 2021."
      ],
      "metadata": {
        "id": "BCIYnq_eDFr9"
      }
    },
    {
      "cell_type": "code",
      "source": [
        "# filters rows where by the type considers for only movies and then also considers the release year of 2021\n",
        "#so it filters out all movies released in 2021\n",
        "movies_2021 = df[(df['type'] == 'Movie') & (df['release_year'] == 2021)]\n",
        "\n",
        "if len(movies_2021) > 0:\n",
        "    # the if statement calculates the number of filtered rows we got from the dataframe\n",
        "    cast_info = movies_2021[['title', 'cast']].reset_index(drop=True)#selects only the columns with the title cast and then restarts\n",
        "    # the row numbering to start from 0 hence the .reset_index(drop=True) and removes old index\n",
        "\n",
        "    for i, row in cast_info.iterrows():# the for loop iterates through each row of the data frame by .iterrows and i id for index number of current row\n",
        "        #row is for the data in that row\n",
        "        print(f\"{i+1}. {row['title']}\") #accesses the data from row 1 specifically data with the value 'title'\n",
        "        if pd.notna(row['cast']):#if the cast value is not not null\n",
        "            # Split cast by comma for better readability\n",
        "            cast_members = row['cast'].split(', ')\n",
        "            for member in cast_members:# for loop to output the cast in a list format with bullets\n",
        "                print(f\"   • {member}\")\n",
        "        else:\n",
        "            print(f\"   • No cast information available\")\n",
        "        print()\n",
        "else:\n",
        "    print(\"No movies from 2021 were found in the dataset.\")"
      ],
      "metadata": {
        "id": "LDkRUeu3DGtX"
      },
      "execution_count": null,
      "outputs": []
    }
  ]
}